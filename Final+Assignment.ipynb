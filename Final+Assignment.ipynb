{
 "cells": [
  {
   "cell_type": "markdown",
   "metadata": {},
   "source": [
    "#How does life expectancy differences between male and female affect pension benefit and redistribution?\n"
   ]
  },
  {
   "cell_type": "markdown",
   "metadata": {},
   "source": [
    "##Research Question\n",
    "Male and female have different life expectancies. How does life expectancy differences between male and female affect pension benefit and funding redistribution?"
   ]
  },
  {
   "cell_type": "markdown",
   "metadata": {},
   "source": [
    "##Motivation canon \n"
   ]
  },
  {
   "cell_type": "markdown",
   "metadata": {},
   "source": [
    "##Method"
   ]
  },
  {
   "cell_type": "markdown",
   "metadata": {},
   "source": []
  },
  {
   "cell_type": "code",
   "execution_count": 1,
   "metadata": {
    "collapsed": true
   },
   "outputs": [],
   "source": [
    "import math\n",
    "import numpy as np\n",
    "import pandas as pd"
   ]
  },
  {
   "cell_type": "markdown",
   "metadata": {},
   "source": [
    "##Model and Assumptions\n",
    "\n"
   ]
  },
  {
   "cell_type": "markdown",
   "metadata": {},
   "source": [
    "##Results"
   ]
  },
  {
   "cell_type": "markdown",
   "metadata": {},
   "source": [
    "##Conclusion and Discussion"
   ]
  },
  {
   "cell_type": "code",
   "execution_count": null,
   "metadata": {
    "collapsed": true
   },
   "outputs": [],
   "source": [
    "|  Symbol  \t| Definition       \t|   \t|     Symbol     \t| Definition                  \t|\n",
    "|:--------:\t|------------------\t|---\t|:--------------:\t|-----------------------------\t|\n",
    "|    $b$   \t| replacement rate \t|   \t|     $\\beta$    \t| bargaining power of workers \t|\n",
    "|  $\\rho$  \t| discount rate    \t|   \t|       $y$      \t| productivity level          \t|\n",
    "| $\\kappa$ \t| search cost function parameter |   \t| $c_{\\upsilon}$ \t| cost of opening a vacancy\t|\n",
    "|  $\\eta$  \t| matching function parameter \t|   \t|    $\\delta$    \t| job destruction rate |\n",
    "|    $A$   \t| matching function parameter \t|   \t| \t|                   |"
   ]
  }
 ],
 "metadata": {
  "anaconda-cloud": {},
  "kernelspec": {
   "display_name": "Python [default]",
   "language": "python",
   "name": "python3"
  },
  "language_info": {
   "codemirror_mode": {
    "name": "ipython",
    "version": 3
   },
   "file_extension": ".py",
   "mimetype": "text/x-python",
   "name": "python",
   "nbconvert_exporter": "python",
   "pygments_lexer": "ipython3",
   "version": "3.5.2"
  }
 },
 "nbformat": 4,
 "nbformat_minor": 1
}
